{
 "cells": [
  {
   "cell_type": "code",
   "execution_count": 11,
   "metadata": {},
   "outputs": [],
   "source": [
    "# Implement a simple text compression scheme.\n",
    "# It works by replacing repeated letters with (letter, count).\n",
    "\n",
    "from itertools import groupby\n",
    "\n",
    "\n",
    "def compress1(s):\n",
    "    s = s.strip()\n",
    "    result = ''\n",
    "    for key, group in groupby(s):\n",
    "        result += \"({}, {})\".format(key, len(list(group)), end='')\n",
    "    return result\n",
    "\n",
    "\n",
    "def compress2(s):\n",
    "    s = s.strip()\n",
    "    counter = 1\n",
    "    result = ''\n",
    "    for i in range(len(s)):\n",
    "        try:\n",
    "            if s[i] == s[i+1]:\n",
    "                counter += 1\n",
    "            else:\n",
    "                result += '({}, {})'.format(s[i], counter)\n",
    "                counter = 1\n",
    "        except IndexError:\n",
    "            result += '({}, {})'.format(s[i], counter)\n",
    "    return result\n",
    "\n",
    "\n",
    "assert compress1('EEaaabbccccEE') == '(E, 2)(a, 3)(b, 2)(c, 4)(E, 2)'\n",
    "assert compress1('ababab') == '(a, 1)(b, 1)(a, 1)(b, 1)(a, 1)(b, 1)'\n",
    "assert compress1('abcd') == '(a, 1)(b, 1)(c, 1)(d, 1)'\n",
    "assert compress1('aabcccccccccccccccccccccccccccccccddddde ') == '(a, 2)(b, 1)(c, 31)(d, 5)(e, 1)'\n",
    "assert compress1('a') == '(a, 1)'\n",
    "assert compress1('aA') == '(a, 1)(A, 1)'\n",
    "assert compress1('') == ''\n",
    "assert compress1('       ') == ''\n",
    "assert compress1('    aa      ') == '(a, 2)'\n",
    "\n",
    "assert compress2('EEaaabbccccEE') == '(E, 2)(a, 3)(b, 2)(c, 4)(E, 2)'\n",
    "assert compress2('ababab') == '(a, 1)(b, 1)(a, 1)(b, 1)(a, 1)(b, 1)'\n",
    "assert compress2('abcd') == '(a, 1)(b, 1)(c, 1)(d, 1)'\n",
    "assert compress2('aabcccccccccccccccccccccccccccccccddddde ') == '(a, 2)(b, 1)(c, 31)(d, 5)(e, 1)'\n",
    "assert compress2('a') == '(a, 1)'\n",
    "assert compress2('aA') == '(a, 1)(A, 1)'\n",
    "assert compress2('') == ''\n",
    "assert compress2('       ') == ''\n",
    "assert compress2('    aa      ') == '(a, 2)'"
   ]
  },
  {
   "cell_type": "code",
   "execution_count": null,
   "metadata": {},
   "outputs": [],
   "source": []
  }
 ],
 "metadata": {
  "kernelspec": {
   "display_name": "Python 3",
   "language": "python",
   "name": "python3"
  },
  "language_info": {
   "codemirror_mode": {
    "name": "ipython",
    "version": 3
   },
   "file_extension": ".py",
   "mimetype": "text/x-python",
   "name": "python",
   "nbconvert_exporter": "python",
   "pygments_lexer": "ipython3",
   "version": "3.6.5"
  }
 },
 "nbformat": 4,
 "nbformat_minor": 2
}
