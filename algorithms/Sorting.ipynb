{
 "cells": [
  {
   "cell_type": "code",
   "execution_count": 1,
   "metadata": {},
   "outputs": [],
   "source": [
    "def bubble_sort(arr):\n",
    "    swapped = True\n",
    "    while swapped:\n",
    "        swapped = False\n",
    "        for i in range(len(arr)-1):\n",
    "            current = arr[i]\n",
    "            next = arr[i+1]\n",
    "            if current > next:\n",
    "                arr[i] = next\n",
    "                arr[i+1] = current\n",
    "                swapped = True\n",
    "    return arr\n",
    "\n",
    "\n",
    "def selection_sort(arr):\n",
    "    sorted_arr = []\n",
    "    minimum = None\n",
    "    while arr:\n",
    "        min_index = 0\n",
    "        for i in range(len(arr)):\n",
    "            if arr[i] > arr[min_index]:\n",
    "                minimum = arr[min_index]\n",
    "            else:\n",
    "                minimum = arr[i]\n",
    "                min_index = i\n",
    "        arr.pop(min_index)\n",
    "        sorted_arr.append(minimum)\n",
    "    return sorted_arr\n",
    "\n",
    "\n",
    "def insertion_sort(arr):\n",
    "    sorted_arr = [arr.pop(0)]\n",
    "    while arr:\n",
    "        el = arr.pop(0)\n",
    "        temp_sorted = []\n",
    "        for i in range(len(sorted_arr)):\n",
    "            if el < sorted_arr[i]:\n",
    "                temp_sorted.append(el)\n",
    "                temp_sorted.extend(sorted_arr[i:])\n",
    "                break\n",
    "            else:\n",
    "                temp_sorted.append(sorted_arr[i])\n",
    "                if i == len(sorted_arr) - 1:\n",
    "                    temp_sorted.append(el)\n",
    "        sorted_arr = temp_sorted\n",
    "    return sorted_arr"
   ]
  },
  {
   "cell_type": "code",
   "execution_count": 2,
   "metadata": {},
   "outputs": [
    {
     "name": "stderr",
     "output_type": "stream",
     "text": [
      "...\n",
      "----------------------------------------------------------------------\n",
      "Ran 3 tests in 0.002s\n",
      "\n",
      "OK\n"
     ]
    }
   ],
   "source": [
    "import unittest\n",
    "\n",
    "\n",
    "class TestSorting(unittest.TestCase):\n",
    "    \n",
    "    def __init__(self, *args, **kwargs):\n",
    "        super(TestSorting, self).__init__(*args, **kwargs)\n",
    "        self.arr = [45, 2, 6, 12, 98, 29, 0]\n",
    "        self.arr_sorted = [0, 2, 6, 12, 29, 45, 98]\n",
    "    \n",
    "    def test_bubble_sort(self):\n",
    "        self.assertEqual(bubble_sort(self.arr), self.arr_sorted)\n",
    "    \n",
    "    def test_selection_sort(self):\n",
    "        self.assertEqual(selection_sort(self.arr), self.arr_sorted)\n",
    "        \n",
    "    def test_insertion_sort(self):\n",
    "        self.assertEqual(insertion_sort(self.arr), self.arr_sorted)\n",
    "        \n",
    "        \n",
    "if __name__ == '__main__':\n",
    "    unittest.main(argv=['-v'], exit=False)"
   ]
  }
 ],
 "metadata": {
  "kernelspec": {
   "display_name": "Python 3",
   "language": "python",
   "name": "python3"
  },
  "language_info": {
   "codemirror_mode": {
    "name": "ipython",
    "version": 3
   },
   "file_extension": ".py",
   "mimetype": "text/x-python",
   "name": "python",
   "nbconvert_exporter": "python",
   "pygments_lexer": "ipython3",
   "version": "3.6.5"
  }
 },
 "nbformat": 4,
 "nbformat_minor": 2
}
